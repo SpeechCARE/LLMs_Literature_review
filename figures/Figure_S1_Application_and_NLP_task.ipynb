{
 "cells": [
  {
   "cell_type": "code",
   "execution_count": null,
   "metadata": {},
   "outputs": [],
   "source": [
    "import pandas as pd\n",
    "import plotly.express as px\n",
    "import plotly.graph_objects as go\n",
    "import sys\n",
    "import openpyxl"
   ]
  },
  {
   "cell_type": "code",
   "execution_count": null,
   "metadata": {},
   "outputs": [],
   "source": [
    "df = pd.read_excel(\"Data for data visuliazation_v4.xlsx\")"
   ]
  },
  {
   "cell_type": "markdown",
   "metadata": {},
   "source": [
    "# NLP Task Distribution by Application Category"
   ]
  },
  {
   "cell_type": "markdown",
   "metadata": {},
   "source": [
    "This script processes the 'NLP task Category' to calculate both real and virtual values for each NLP task in different application categories. The virtual values are adjusted for better visualization, but the chart displays the real values for clarity."
   ]
  },
  {
   "cell_type": "code",
   "execution_count": null,
   "metadata": {},
   "outputs": [],
   "source": [
    "# Exploding the 'NLP task Category' column to get individual tasks for each row\n",
    "df['NLP_Tasks'] = df['NLP task Category'].str.split(',')\n",
    "df_exploded = df.explode('NLP_Tasks')\n",
    "df_exploded['NLP_Tasks'] = df_exploded['NLP_Tasks'].str.strip()  \n",
    "\n",
    "app_nlp_detail = df_exploded.groupby(['Application Category', 'NLP_Tasks']).size().reset_index(name='real_value')\n",
    "\n",
    "# Creating virtual values to improve chart visualization (adjusting counts for specific tasks)\n",
    "app_nlp_detail['virtual_value'] = app_nlp_detail['real_value'].apply(\n",
    "    lambda x: x + 2 if x == 3 else x + 1 if x == 5 else x  \n",
    ")\n",
    "\n",
    "# Filtering out rows with real value less than 3 for better visualization\n",
    "app_nlp_detail = app_nlp_detail[app_nlp_detail['real_value'] >= 3]\n",
    "\n",
    "app_counts = app_nlp_detail.groupby('Application Category')['real_value'].sum().reset_index(name='app_count')\n",
    "\n",
    "app_nlp_detail['label'] = app_nlp_detail.apply(\n",
    "    lambda row: f\"{row['NLP_Tasks']}({row['real_value']})\", \n",
    "    axis=1\n",
    ")\n",
    "\n",
    "app_counts['label_apps'] = app_counts.apply(\n",
    "    lambda row: f\"{row['Application Category'].replace(' and', '<br>and')}({row['app_count']})\", \n",
    "    axis=1\n",
    ")\n",
    "\n",
    "app_nlp_detail = app_nlp_detail.merge(app_counts[['Application Category', 'label_apps']], on='Application Category')\n",
    "\n",
    "print(app_nlp_detail)\n",
    "print(app_counts)"
   ]
  },
  {
   "cell_type": "code",
   "execution_count": null,
   "metadata": {},
   "outputs": [],
   "source": [
    "print(app_nlp_detail['Application Category'].unique())"
   ]
  },
  {
   "cell_type": "code",
   "execution_count": null,
   "metadata": {},
   "outputs": [],
   "source": [
    "fig = px.sunburst(app_nlp_detail, \n",
    "                  path=['label_apps', 'label'], \n",
    "                  values='virtual_value', \n",
    "                  title='<b>Sunburst Chart of Applications and NLP Tasks</b>',\n",
    "                  color_discrete_sequence=['#264653', '#2a9d8f',  \n",
    "                    '#e9c46a', '#f4a261', \n",
    "                    '#e76f51', '#588157']\n",
    ") \n",
    "\n",
    "fig.update_traces(\n",
    "    # texttemplate='%{label}(%{value})',\n",
    "    insidetextorientation='radial', \n",
    "    selector=dict(type='sunburst'), \n",
    "    textfont=dict(size=25),\n",
    ")\n",
    "\n",
    "fig.update_layout(\n",
    "    font=dict(size=20),\n",
    "    height=1300, \n",
    "    width=1300,\n",
    "    margin=dict(l=10, r=10, t=50, b=10)\n",
    ")\n",
    "\n",
    "fig.show()"
   ]
  }
 ],
 "metadata": {
  "language_info": {
   "name": "python"
  }
 },
 "nbformat": 4,
 "nbformat_minor": 2
}
